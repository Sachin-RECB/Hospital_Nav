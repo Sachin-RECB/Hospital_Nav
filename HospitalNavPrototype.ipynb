{
  "cells": [
    {
      "cell_type": "markdown",
      "metadata": {
        "colab_type": "text",
        "id": "view-in-github"
      },
      "source": [
        "<a href=\"https://colab.research.google.com/github/Sachin-RECB/Hospital_Nav/blob/main/HospitalNavPrototype.ipynb\" target=\"_parent\"><img src=\"https://colab.research.google.com/assets/colab-badge.svg\" alt=\"Open In Colab\"/></a>"
      ]
    },
    {
      "cell_type": "code",
      "execution_count": null,
      "metadata": {
        "id": "dfKK5g2kUQns",
        "vscode": {
          "languageId": "python"
        }
      },
      "outputs": [
        {
          "ename": "ModuleNotFoundError",
          "evalue": "No module named 'folium'",
          "output_type": "error",
          "traceback": [
            "\u001b[1;31m---------------------------------------------------------------------------\u001b[0m\n",
            "\u001b[1;31mModuleNotFoundError\u001b[0m                       Traceback (most recent call last)\n",
            "\u001b[1;32md:\\github\\Hospital_nav\\HospitalNavPrototype.ipynb Cell 3'\u001b[0m in \u001b[0;36m<cell line: 1>\u001b[1;34m()\u001b[0m\n",
            "\u001b[1;32m----> <a href='vscode-notebook-cell:/d%3A/github/Hospital_nav/HospitalNavPrototype.ipynb#ch0000002?line=0'>1</a>\u001b[0m \u001b[39mimport\u001b[39;00m \u001b[39mfolium\u001b[39;00m\n",
            "\u001b[0;32m      <a href='vscode-notebook-cell:/d%3A/github/Hospital_nav/HospitalNavPrototype.ipynb#ch0000002?line=1'>2</a>\u001b[0m \u001b[39mfrom\u001b[39;00m \u001b[39mfolium\u001b[39;00m \u001b[39mimport\u001b[39;00m plugins\n",
            "\u001b[0;32m      <a href='vscode-notebook-cell:/d%3A/github/Hospital_nav/HospitalNavPrototype.ipynb#ch0000002?line=2'>3</a>\u001b[0m \u001b[39mimport\u001b[39;00m \u001b[39mpandas\u001b[39;00m \u001b[39mas\u001b[39;00m \u001b[39mpd\u001b[39;00m\n",
            "\n",
            "\u001b[1;31mModuleNotFoundError\u001b[0m: No module named 'folium'"
          ]
        }
      ],
      "source": [
        "import folium\n",
        "from folium import plugins\n",
        "import pandas as pd\n",
        "\n",
        "import ipywidgets\n",
        "import os\n",
        "import json\n",
        "\n",
        "from IPython.display import YouTubeVideo\n",
        "import datetime"
      ]
    },
    {
      "cell_type": "markdown",
      "metadata": {
        "id": "VZd_uQzf-TJo"
      },
      "source": [
        "## To learn the basics about geo visualisation in Python check out this Video about the cholera outbreak in broad street"
      ]
    },
    {
      "cell_type": "code",
      "execution_count": null,
      "metadata": {
        "id": "ZbV0lVd_Uxra",
        "vscode": {
          "languageId": "python"
        }
      },
      "outputs": [],
      "source": [
        "!git clone https://github.com/Sachin-RECB/Hospital_nav.git"
      ]
    },
    {
      "cell_type": "markdown",
      "metadata": {
        "id": "c78wHray6VKo"
      },
      "source": [
        "\n",
        "---\n",
        "## Intitialize Map\n",
        "---"
      ]
    },
    {
      "cell_type": "code",
      "execution_count": null,
      "metadata": {
        "id": "GrqeeJe5VBIl",
        "vscode": {
          "languageId": "python"
        }
      },
      "outputs": [],
      "source": [
        "# the latitude and Longitude coordinates\n",
        "UMMlocation = (29.13246860514598, 78.24661892659645)\n",
        "map_UMM = folium.Map(location = UMMlocation, width = \"75%\", zoom_start = 17) # max zoom: 18\n",
        "map_UMM"
      ]
    },
    {
      "cell_type": "markdown",
      "metadata": {
        "id": "K0PSaHRy6Ond"
      },
      "source": [
        "---\n",
        "## Display geojson Outline\n",
        "---\n",
        "geojson drawing tool: http://geojson.io/"
      ]
    },
    {
      "cell_type": "code",
      "execution_count": null,
      "metadata": {
        "id": "fT-J95e4WPWj",
        "vscode": {
          "languageId": "python"
        }
      },
      "outputs": [],
      "source": [
        "hauseOutline = 'HospitalNavigator/GeoResources/BH2.geojson'\n",
        "display(folium.GeoJson(hauseOutline, name=\"BH2\").add_to(map_UMM))\n",
        "display(map_UMM)"
      ]
    },
    {
      "cell_type": "code",
      "execution_count": null,
      "metadata": {
        "vscode": {
          "languageId": "python"
        }
      },
      "outputs": [],
      "source": [
        "hauseOutline = 'HospitalNavigator/GeoResources/Haus22.geojson'\n",
        "display(folium.GeoJson(hauseOutline, name=\"Haus22\").add_to(map_UMM))\n",
        "display(map_UMM)"
      ]
    },
    {
      "cell_type": "markdown",
      "metadata": {
        "id": "aOzBDuxL6I8C"
      },
      "source": [
        "---\n",
        "##Display Ant Path\n",
        "---"
      ]
    },
    {
      "cell_type": "code",
      "execution_count": null,
      "metadata": {
        "id": "rfrg47U_Qj25",
        "vscode": {
          "languageId": "python"
        }
      },
      "outputs": [],
      "source": [
        "testGeoJson = 'Hospital_nav/GeoResources/path/w17.geojson'"
      ]
    },
    {
      "cell_type": "code",
      "execution_count": null,
      "metadata": {
        "id": "pIQuMaKydxSC",
        "vscode": {
          "languageId": "python"
        }
      },
      "outputs": [],
      "source": [
        "def switchPosition(coordinate):\n",
        "  temp = coordinate[0]\n",
        "  coordinate[0] = coordinate[1]\n",
        "  coordinate[1] = temp\n",
        "  return coordinate"
      ]
    },
    {
      "cell_type": "code",
      "execution_count": null,
      "metadata": {
        "id": "nfn2vUH1Sq5z",
        "vscode": {
          "languageId": "python"
        }
      },
      "outputs": [],
      "source": [
        "with open(testGeoJson) as f:\n",
        "  testWay = json.load(f)\n",
        "\n",
        "for feature in testWay['features']:\n",
        "    path = feature['geometry']['coordinates']\n",
        "finalPath = list(map(switchPosition,path))\n",
        "finalPath"
      ]
    },
    {
      "cell_type": "code",
      "execution_count": null,
      "metadata": {
        "id": "TtAbktGTZ5bx",
        "vscode": {
          "languageId": "python"
        }
      },
      "outputs": [],
      "source": [
        "path = 'Hospital_nav/GeoResources/path/w17.geojson'\n",
        "folium.plugins.AntPath([[29.132290662160102, 78.24655887636258],\n",
        " [29.132952121789103, 78.24860610961012],\n",
        " [29.133244393292657, 78.24845641943719],\n",
        " [29.132879053783363, 78.2463255357989],\n",
        " [29.132267587910167, 78.24588967323652],\n",
        " [29.131729187274967, 78.24692429649065],\n",
        " [29.132759837451996, 78.24804257013552],\n",
        " [29.1322945078679, 78.24774318978965]]).add_to(map_UMM)\n",
        "map_UMM"
      ]
    },
    {
      "cell_type": "markdown",
      "metadata": {
        "id": "ifjJu3V16EAs"
      },
      "source": [
        "---\n",
        "## Select Widget\n",
        "---"
      ]
    },
    {
      "cell_type": "code",
      "execution_count": null,
      "metadata": {
        "id": "obbYz7AwRL6K",
        "vscode": {
          "languageId": "python"
        }
      },
      "outputs": [],
      "source": [
        "select_widget=ipywidgets.Select(\n",
        "    options=['Option A', 'Option B'],\n",
        "    value='Option A',\n",
        "    description='Select',\n",
        "    disabled=False)\n",
        "\n",
        "def selectOption(opt):\n",
        "    if opt == 'Option A':\n",
        "        print('A')\n",
        "    if opt == 'Option B':\n",
        "        print('B')\n",
        "\n",
        "ipywidgets.interact(selectOption, opt=select_widget)"
      ]
    },
    {
      "cell_type": "markdown",
      "metadata": {
        "id": "0Q-hv_Wj6nB7"
      },
      "source": [
        "\n",
        "\n",
        "---\n",
        "## Build Navigator Prototype\n",
        "---\n",
        "\n",
        "\n"
      ]
    },
    {
      "cell_type": "code",
      "execution_count": null,
      "metadata": {
        "id": "g_UAR_hEhh5u",
        "vscode": {
          "languageId": "python"
        }
      },
      "outputs": [],
      "source": [
        "class navigator:\n",
        "    def __init__(self):\n",
        "        self.geoResources = {}\n",
        "        self.hospitalLocation =(29.13246860514598, 78.24661892659645)\n",
        "        self.position = 'w'\n",
        "        self.destination = 'Haus17'\n",
        "\n",
        "        for root, dirs, files in os.walk('HospitalNavigator/GeoResources'):  \n",
        "            for file in files:\n",
        "                self.geoResources[file.split('.')[0]] = root+'/'+file\n",
        "\n",
        "    def changeDestination(self,newDestination):\n",
        "        self.destination = newDestination\n",
        "        self.redrawMap()\n",
        "\n",
        "    def changeStartPoint(self, newStartPoint):\n",
        "        \n",
        "        #self.position = newStartPoint #does not work yet\n",
        "        print(f'Selected Start: {newStartPoint}; Selected Target: {self.destination}')\n",
        "        #self.redrawMap()\n",
        "        \n",
        "\n",
        "    def drawPathWay(self,hospitalMap):\n",
        "      \n",
        "      def switchPosition(coordinate):\n",
        "        temp = coordinate[0]\n",
        "        coordinate[0] = coordinate[1]\n",
        "        coordinate[1] = temp\n",
        "        return coordinate\n",
        "\n",
        "      searchString = self.position + self.destination.split('Haus')[1]\n",
        "      with open(self.geoResources[searchString]) as f:\n",
        "           testWay = json.load(f)\n",
        "\n",
        "      for feature in testWay['features']:\n",
        "        path = feature['geometry']['coordinates']\n",
        "\n",
        "      finalPath = list(map(switchPosition,path))\n",
        "      folium.plugins.AntPath(finalPath).add_to(hospitalMap)\n",
        "\n",
        "    def drawBuilding(self,hospitalMap):\n",
        "      hauseOutline = self.geoResources[self.destination]\n",
        "      folium.GeoJson(hauseOutline, name=\"geojson\").add_to(hospitalMap)\n",
        "\n",
        "    def redrawMap(self):\n",
        "        #print(f'position {self.position}, destination {self.destination}')\n",
        "        hospitalMap = folium.Map(location = self.hospitalLocation, width = \"75%\", zoom_start = 17)\n",
        "        self.drawPathWay(hospitalMap)\n",
        "        self.drawBuilding(hospitalMap)\n",
        "        display(hospitalMap)\n",
        "\n",
        "\n"
      ]
    },
    {
      "cell_type": "code",
      "execution_count": null,
      "metadata": {
        "id": "NiF2NcmlVioA",
        "vscode": {
          "languageId": "python"
        }
      },
      "outputs": [],
      "source": [
        "myNavigator = navigator()"
      ]
    },
    {
      "cell_type": "code",
      "execution_count": null,
      "metadata": {
        "id": "1KVHVrwnjD1H",
        "vscode": {
          "languageId": "python"
        }
      },
      "outputs": [],
      "source": [
        "def displayWay(whereTo):\n",
        "     myNavigator.changeDestination(whereTo)"
      ]
    },
    {
      "cell_type": "code",
      "execution_count": null,
      "metadata": {
        "id": "pjRHgbd7jEPb",
        "vscode": {
          "languageId": "python"
        }
      },
      "outputs": [],
      "source": [
        "def changePosition(whereFrom):\n",
        "    myNavigator.changeStartPoint(whereFrom)"
      ]
    },
    {
      "cell_type": "code",
      "execution_count": null,
      "metadata": {
        "id": "m1kE2QZlacKq",
        "vscode": {
          "languageId": "python"
        }
      },
      "outputs": [],
      "source": [
        "# Destination Selector\n",
        "selectHouse_widget=ipywidgets.Select(\n",
        "    \n",
        "options=['Main building',\n",
        "    'BH1',\n",
        "    'BH2',\n",
        "    'BH4',\n",
        "    'Girls Hostel',\n",
        "    'CBI ATM',\n",
        "    'Volleyball Court',\n",
        "    'Activity Hall'],\n",
        "    value='Main Building',\n",
        "    description='Target',\n",
        "    disabled=False)\n",
        "\n",
        "# widget function\n",
        "def selectHouse(way):\n",
        "    if way == 'Main Building' :\n",
        "        displayWay('Main Building' ) \n",
        "    if way == 'BH1':\n",
        "        displayWay('BH1')\n",
        "    if way == 'BH2':\n",
        "        displayWay('BH2')\n",
        "    if way == 'BH4':\n",
        "        displayWay('BH4')\n",
        "    if way == 'Girls Hostel':\n",
        "        displayWay('Girls Hostel')\n",
        "    if way == 'CBI ATM':\n",
        "        displayWay('CBI ATM')\n",
        "    if way == 'Volleyball Court':\n",
        "        displayWay('Volleyball Court')\n",
        "    if way == 'Activity Hall':\n",
        "        displayWay('Activity Hall') \n",
        "\n",
        "# Position Selector\n",
        "selectPosition_widget=ipywidgets.Select(\n",
        "    options=['Aufnahme', 'Eingang West', 'Eingang Ost', 'Eingang Fahrzeuge'],\n",
        "    value='Eingang West',\n",
        "    description='Start',\n",
        "    disabled=False)\n",
        "\n",
        "def selectPosition(position):\n",
        "    if position == 'Aufnahme':\n",
        "        changePosition('a')\n",
        "    if position == 'Eingang West':\n",
        "        changePosition('w')\n",
        "    if position == 'Eingang Ost':\n",
        "        changePosition('o')\n",
        "    if position == 'Eingang Fahrzeuge':\n",
        "        changePosition('f')\n",
        "        \n",
        "#Initialization   \n",
        "ipywidgets.interact(selectPosition, position=selectPosition_widget)\n",
        "ipywidgets.interact(selectHouse, way=selectHouse_widget)"
      ]
    },
    {
      "cell_type": "code",
      "execution_count": null,
      "metadata": {
        "id": "gu_bjlTMPOnb",
        "vscode": {
          "languageId": "python"
        }
      },
      "outputs": [],
      "source": []
    }
  ],
  "metadata": {
    "colab": {
      "authorship_tag": "ABX9TyOUf+xaSIJK+5l+sRqw6/rf",
      "collapsed_sections": [],
      "include_colab_link": true,
      "name": "HospitalNavPrototype.ipynb",
      "provenance": []
    },
    "kernelspec": {
      "display_name": "Python 3",
      "name": "python3"
    }
  },
  "nbformat": 4,
  "nbformat_minor": 0
}
